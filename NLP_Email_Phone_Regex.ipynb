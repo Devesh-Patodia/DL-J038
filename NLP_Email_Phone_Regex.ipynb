{
  "nbformat": 4,
  "nbformat_minor": 0,
  "metadata": {
    "orig_nbformat": 2,
    "file_extension": ".py",
    "mimetype": "text/x-python",
    "name": "python",
    "npconvert_exporter": "python",
    "pygments_lexer": "ipython3",
    "version": 3,
    "kernelspec": {
      "name": "python3",
      "display_name": "Python 3"
    },
    "colab": {
      "name": "NLP Email Phone Regex.ipynb",
      "provenance": [],
      "collapsed_sections": [],
      "include_colab_link": true
    }
  },
  "cells": [
    {
      "cell_type": "markdown",
      "metadata": {
        "id": "view-in-github",
        "colab_type": "text"
      },
      "source": [
        "<a href=\"https://colab.research.google.com/github/Devesh-Patodia/DL-J038/blob/master/NLP_Email_Phone_Regex.ipynb\" target=\"_parent\"><img src=\"https://colab.research.google.com/assets/colab-badge.svg\" alt=\"Open In Colab\"/></a>"
      ]
    },
    {
      "cell_type": "code",
      "metadata": {
        "id": "02lJUrvoKqTR",
        "colab_type": "code",
        "colab": {}
      },
      "source": [
        "import re\n",
        "import numpy as np\n",
        "import pandas as pd"
      ],
      "execution_count": 0,
      "outputs": []
    },
    {
      "cell_type": "code",
      "metadata": {
        "id": "uIFyTErKKqTl",
        "colab_type": "code",
        "colab": {}
      },
      "source": [
        "def find_email(text):\n",
        "    text=text.lower()\n",
        "    email=list()\n",
        "    email.append(re.findall(\"\\w+@\\w+.\\w+\",text))\n",
        "    return email\n"
      ],
      "execution_count": 0,
      "outputs": []
    },
    {
      "cell_type": "code",
      "metadata": {
        "id": "OsixZ4ENKqTo",
        "colab_type": "code",
        "colab": {}
      },
      "source": [
        "def find_num(text):\n",
        "    text=text.lower()\n",
        "    number_list=list()\n",
        "    number_list.append(re.findall(\"[0-9]\",text))\n",
        "    return number_list[0]\n"
      ],
      "execution_count": 0,
      "outputs": []
    },
    {
      "cell_type": "code",
      "metadata": {
        "id": "ml2YewykKqTt",
        "colab_type": "code",
        "colab": {}
      },
      "source": [
        "str = 'Hi, I am Aaryan Jethva. Phone number is 8856098932. My email is aaryanmessi7@gmail.com'"
      ],
      "execution_count": 0,
      "outputs": []
    },
    {
      "cell_type": "code",
      "metadata": {
        "id": "1zjFitWKKqTw",
        "colab_type": "code",
        "outputId": "72f7f402-a7e9-4cc2-8b72-05cd4317fa66",
        "colab": {
          "base_uri": "https://localhost:8080/",
          "height": 34
        }
      },
      "source": [
        "find_email(str)"
      ],
      "execution_count": 0,
      "outputs": [
        {
          "output_type": "execute_result",
          "data": {
            "text/plain": [
              "[['aaryanmessi7@gmail.com']]"
            ]
          },
          "metadata": {
            "tags": []
          },
          "execution_count": 16
        }
      ]
    },
    {
      "cell_type": "code",
      "metadata": {
        "id": "aIR7VdBlKqTz",
        "colab_type": "code",
        "outputId": "cc8d02c2-762e-497d-dcd3-1a4689c22c0e",
        "colab": {
          "base_uri": "https://localhost:8080/",
          "height": 34
        }
      },
      "source": [
        "find_num(str)"
      ],
      "execution_count": 0,
      "outputs": [
        {
          "output_type": "execute_result",
          "data": {
            "text/plain": [
              "['8', '8', '5', '6', '0', '9', '8', '9', '3', '2', '7']"
            ]
          },
          "metadata": {
            "tags": []
          },
          "execution_count": 18
        }
      ]
    }
  ]
}